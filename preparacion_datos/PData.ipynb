{
 "cells": [
  {
   "cell_type": "code",
   "execution_count": null,
   "id": "9fa9bc67",
   "metadata": {
    "vscode": {
     "languageId": "plaintext"
    }
   },
   "outputs": [],
   "source": [
    "import os, numpy as np, pandas as pd\n",
    "from sklearn.model_selection import train_test_split\n",
    "from sklearn.preprocessing import StandardScaler\n",
    "from sklearn.decomposition import PCA\n",
    "\n",
    "DATA_PATH = \"/content/online_gaming_insights.csv\"   # ruta del CSV\n",
    "OUT_DIR = \"/content/data\"; os.makedirs(OUT_DIR, exist_ok=True)\n",
    "DROP_COLS = [\"PlayerID\", \"Location\"]\n",
    "\n",
    "df = pd.read_csv(DATA_PATH)\n",
    "df = df.drop(columns=[c for c in DROP_COLS if c in df.columns], errors=\"ignore\")\n",
    "\n",
    "col_eng = \"EngagementLevel\" if \"EngagementLevel\" in df.columns else \"engagementlevel\"\n",
    "col_buy = \"InGamePurchases\"  if \"InGamePurchases\"  in df.columns else \"ingamepurchases\"\n",
    "\n",
    "df[\"engagementlevel_num\"] = df[col_eng].str.lower().str[:1].map({\"l\":1,\"m\":2,\"h\":3})\n",
    "df[col_buy] = pd.to_numeric(df[col_buy], errors=\"coerce\")\n",
    "df[\"igp_bin\"] = (df[col_buy] > 0).astype(int)\n",
    "df = df.fillna(df.median(numeric_only=True)).drop_duplicates()\n",
    "\n",
    "for c in df.select_dtypes(include=\"number\"):\n",
    "    q1, q3 = df[c].quantile([.25, .75]); iqr = q3 - q1\n",
    "    df[c] = df[c].clip(q1 - 1.5*iqr, q3 + 1.5*iqr)\n",
    "\n",
    "X = pd.get_dummies(df.drop(columns=[col_eng, col_buy, \"engagementlevel_num\", \"igp_bin\"]), drop_first=False)\n",
    "X_scaled = StandardScaler(with_mean=False).fit_transform(X)\n",
    "X_proc = pd.DataFrame(PCA(0.95, random_state=42).fit_transform(X_scaled), index=X.index)\n",
    "\n",
    "def sv(Xm, y, prefix, strat=None):\n",
    "    Xt, Xe, yt, ye = train_test_split(Xm, y, test_size=0.2, random_state=42, stratify=strat)\n",
    "    X2, Xv, y2, yv = train_test_split(Xt, yt, test_size=0.2, random_state=42,\n",
    "                                      stratify=(yt if strat is not None else None))\n",
    "    for a, n in [(X2,\"TrainX\"), (y2,\"TrainY\"), (Xv,\"ValidationX\"), (yv,\"ValidationY\"), (Xe,\"TestX\"), (ye,\"TestY\")]:\n",
    "        pd.DataFrame(a).to_csv(f\"{OUT_DIR}/{n}_{prefix}.csv\", index=False)\n",
    "\n",
    "m = df[\"engagementlevel_num\"].notna()\n",
    "sv(X_proc.loc[m], df.loc[m,\"engagementlevel_num\"].astype(int),   \"eng_cls\", strat=df.loc[m,\"engagementlevel_num\"])\n",
    "sv(X_proc.loc[m], df.loc[m,\"engagementlevel_num\"].astype(float), \"eng_reg\")\n",
    "m = df[col_buy].notna()\n",
    "sv(X_proc.loc[m], df.loc[m,\"igp_bin\"],                           \"igp_cls\", strat=df.loc[m,\"igp_bin\"])\n",
    "sv(X_proc.loc[m], df.loc[m,col_buy].astype(float),               \"igp_reg\")\n",
    "\n",
    "print(\" Listo. Archivos guardados en:\", OUT_DIR)"
   ]
  }
 ],
 "metadata": {
  "language_info": {
   "name": "python"
  }
 },
 "nbformat": 4,
 "nbformat_minor": 5
}
