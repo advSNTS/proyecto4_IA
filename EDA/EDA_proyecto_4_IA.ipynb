{
  "nbformat": 4,
  "nbformat_minor": 0,
  "metadata": {
    "colab": {
      "provenance": []
    },
    "kernelspec": {
      "name": "python3",
      "display_name": "Python 3"
    },
    "language_info": {
      "name": "python"
    }
  },
  "cells": [
    {
      "cell_type": "code",
      "execution_count": 2,
      "metadata": {
        "id": "23v3hs4otKPf",
        "colab": {
          "base_uri": "https://localhost:8080/"
        },
        "outputId": "c0717f50-921e-4c82-fcf9-ba6c4d7150ff"
      },
      "outputs": [
        {
          "output_type": "stream",
          "name": "stdout",
          "text": [
            "numpy: 2.0.0\n",
            "pandas: 2.2.2\n",
            "scikit-learn: 1.6.1\n",
            "seaborn: 0.13.2\n"
          ]
        }
      ],
      "source": [
        "req = \"\"\"numpy==2.0.0\n",
        "pandas==2.2.2\n",
        "scikit-learn==1.6.1\n",
        "seaborn==0.13.2\n",
        "\"\"\"\n",
        "with open(\"requirements.txt\", \"w\") as f:\n",
        "    f.write(req)\n",
        "\n",
        "!pip -q install -r requirements.txt\n",
        "\n",
        "# Verificar\n",
        "import numpy, pandas, sklearn, seaborn\n",
        "print(\"numpy:\", numpy.__version__)\n",
        "print(\"pandas:\", pandas.__version__)\n",
        "print(\"scikit-learn:\", sklearn.__version__)\n",
        "print(\"seaborn:\", seaborn.__version__)\n"
      ]
    },
    {
      "cell_type": "markdown",
      "source": [
        "# **Revisión de Dataset**"
      ],
      "metadata": {
        "id": "EUAst6Gs7Kug"
      }
    },
    {
      "cell_type": "code",
      "source": [
        "import pandas as pd"
      ],
      "metadata": {
        "id": "BeJtSdAANa5t"
      },
      "execution_count": 30,
      "outputs": []
    },
    {
      "cell_type": "code",
      "source": [
        "PATH = \"matchData.csv\"\n",
        "df = pd.read_csv(PATH, low_memory=False)"
      ],
      "metadata": {
        "id": "3FAbHOK8N4lP"
      },
      "execution_count": 31,
      "outputs": []
    },
    {
      "cell_type": "code",
      "source": [
        "print(\"Shape (filas, columnas):\", df.shape)\n",
        "print(\"\\nPrimeras 5 filas (head):\")\n",
        "print(df.head(5))"
      ],
      "metadata": {
        "colab": {
          "base_uri": "https://localhost:8080/"
        },
        "id": "-HJhq4maOTKv",
        "outputId": "e2139ce4-3eeb-4baa-b76b-dc7e26612350"
      },
      "execution_count": 32,
      "outputs": [
        {
          "output_type": "stream",
          "name": "stdout",
          "text": [
            "Shape (filas, columnas): (101843, 1770)\n",
            "\n",
            "Primeras 5 filas (head):\n",
            "   dataVersion         matchId endOfGameResult   gameCreation  gameDuration  \\\n",
            "0            2  NA1_5348438296    GameComplete  1755372956560          1682   \n",
            "1            2  NA1_5348419072    GameComplete  1755370753217          1759   \n",
            "2            2  NA1_5345908214    GameComplete  1755055472135          2491   \n",
            "3            2  NA1_5341292117    GameComplete  1754532281603          1973   \n",
            "4            2  NA1_5341241370    GameComplete  1754529263025          2376   \n",
            "\n",
            "   gameEndTimestamp      gameId gameMode                      gameName  \\\n",
            "0     1755374669877  5348438296  CLASSIC  teambuilder-match-5348438296   \n",
            "1     1755372544375  5348419072  CLASSIC  teambuilder-match-5348419072   \n",
            "2     1755057984148  5345908214  CLASSIC  teambuilder-match-5345908214   \n",
            "3     1754534283418  5341292117  CLASSIC  teambuilder-match-5341292117   \n",
            "4     1754531661796  5341241370  CLASSIC  teambuilder-match-5341241370   \n",
            "\n",
            "       gameType  ... team1DragonFirst  team1DragonKills  team1HordeFirst  \\\n",
            "0  MATCHED_GAME  ...             True                 2            False   \n",
            "1  MATCHED_GAME  ...            False                 0             True   \n",
            "2  MATCHED_GAME  ...             True                 4            False   \n",
            "3  MATCHED_GAME  ...             True                 3            False   \n",
            "4  MATCHED_GAME  ...            False                 3            False   \n",
            "\n",
            "   team1HordeKills  team1InhibitorFirst  team1InhibitorKills  \\\n",
            "0                0                False                    0   \n",
            "1                3                False                    0   \n",
            "2                0                 True                    3   \n",
            "3                0                False                    0   \n",
            "4                1                 True                    1   \n",
            "\n",
            "   team1RiftHeraldFirst  team1RiftHeraldKills  team1TowerFirst  \\\n",
            "0                 False                     0            False   \n",
            "1                 False                     0             True   \n",
            "2                  True                     1             True   \n",
            "3                  True                     1            False   \n",
            "4                  True                     1             True   \n",
            "\n",
            "   team1TowerKills  \n",
            "0                2  \n",
            "1                2  \n",
            "2               11  \n",
            "3                5  \n",
            "4                7  \n",
            "\n",
            "[5 rows x 1770 columns]\n"
          ]
        }
      ]
    },
    {
      "cell_type": "code",
      "source": [
        "print(\"\\nColumnas (primeras 30):\")\n",
        "print(list(df.columns[:30]))"
      ],
      "metadata": {
        "colab": {
          "base_uri": "https://localhost:8080/"
        },
        "id": "UiUmocaiOXZd",
        "outputId": "f5d03bfc-4f1f-466b-d38a-a936c561337d"
      },
      "execution_count": 33,
      "outputs": [
        {
          "output_type": "stream",
          "name": "stdout",
          "text": [
            "\n",
            "Columnas (primeras 30):\n",
            "['dataVersion', 'matchId', 'endOfGameResult', 'gameCreation', 'gameDuration', 'gameEndTimestamp', 'gameId', 'gameMode', 'gameName', 'gameType', 'gameVersion', 'mapId', 'participant0PlayerScore0', 'participant0PlayerScore1', 'participant0PlayerScore10', 'participant0PlayerScore11', 'participant0PlayerScore2', 'participant0PlayerScore3', 'participant0PlayerScore4', 'participant0PlayerScore5', 'participant0PlayerScore6', 'participant0PlayerScore7', 'participant0PlayerScore8', 'participant0PlayerScore9', 'participant0AllInPings', 'participant0AssistMePings', 'participant0Assists', 'participant0BaronKills', 'participant0BasicPings', 'participant0ChampExperience']\n"
          ]
        }
      ]
    },
    {
      "cell_type": "code",
      "source": [
        "print(\"\\nTipos de datos (primeras 30):\")\n",
        "print(df.dtypes.head(30))"
      ],
      "metadata": {
        "colab": {
          "base_uri": "https://localhost:8080/"
        },
        "id": "FiFHU-yzOa2_",
        "outputId": "2fc3507e-7c38-4801-e6d2-933ba71fbcb4"
      },
      "execution_count": 34,
      "outputs": [
        {
          "output_type": "stream",
          "name": "stdout",
          "text": [
            "\n",
            "Tipos de datos (primeras 30):\n",
            "dataVersion                     int64\n",
            "matchId                        object\n",
            "endOfGameResult                object\n",
            "gameCreation                    int64\n",
            "gameDuration                    int64\n",
            "gameEndTimestamp                int64\n",
            "gameId                          int64\n",
            "gameMode                       object\n",
            "gameName                       object\n",
            "gameType                       object\n",
            "gameVersion                    object\n",
            "mapId                           int64\n",
            "participant0PlayerScore0        int64\n",
            "participant0PlayerScore1        int64\n",
            "participant0PlayerScore10       int64\n",
            "participant0PlayerScore11       int64\n",
            "participant0PlayerScore2        int64\n",
            "participant0PlayerScore3        int64\n",
            "participant0PlayerScore4        int64\n",
            "participant0PlayerScore5        int64\n",
            "participant0PlayerScore6        int64\n",
            "participant0PlayerScore7        int64\n",
            "participant0PlayerScore8        int64\n",
            "participant0PlayerScore9        int64\n",
            "participant0AllInPings          int64\n",
            "participant0AssistMePings       int64\n",
            "participant0Assists             int64\n",
            "participant0BaronKills          int64\n",
            "participant0BasicPings          int64\n",
            "participant0ChampExperience     int64\n",
            "dtype: object\n"
          ]
        }
      ]
    },
    {
      "cell_type": "code",
      "source": [
        "dup_rows = df.duplicated().sum()\n",
        "print(f\"\\nFilas duplicadas exactas: {dup_rows}\")"
      ],
      "metadata": {
        "colab": {
          "base_uri": "https://localhost:8080/"
        },
        "id": "U5C_GSYiOggh",
        "outputId": "b4de93c4-6544-4adf-ae5e-f6063edfbdbf"
      },
      "execution_count": 35,
      "outputs": [
        {
          "output_type": "stream",
          "name": "stdout",
          "text": [
            "\n",
            "Filas duplicadas exactas: 0\n"
          ]
        }
      ]
    },
    {
      "cell_type": "markdown",
      "source": [
        "# **Limpieza**"
      ],
      "metadata": {
        "id": "aI4DIZVDOnLH"
      }
    },
    {
      "cell_type": "code",
      "source": [
        "import numpy as np\n",
        "import pandas as pd"
      ],
      "metadata": {
        "id": "wqDqIrxoOmCD"
      },
      "execution_count": 36,
      "outputs": []
    },
    {
      "cell_type": "code",
      "source": [
        "def normalize_col(c):\n",
        "    c = str(c).strip()\n",
        "    c = c.replace(\" \", \"_\").replace(\"-\", \"_\")\n",
        "    c = \"\".join(ch if ch.isalnum() or ch==\"_\" else \"\" for ch in c)\n",
        "    return c.lower()\n",
        "\n",
        "original_cols = df.columns.tolist()\n",
        "df.columns = [normalize_col(c) for c in df.columns]"
      ],
      "metadata": {
        "id": "EUmJgeF9OuJM"
      },
      "execution_count": 37,
      "outputs": []
    },
    {
      "cell_type": "code",
      "source": [
        "n_rows = len(df)\n",
        "empty_cols = [c for c in df.columns if df[c].isna().all()]\n",
        "constant_cols = [c for c in df.columns if df[c].nunique(dropna=False) <= 1]\n",
        "drop_cols = list(dict.fromkeys(empty_cols + constant_cols))  # sin duplicados\n",
        "df.drop(columns=drop_cols, inplace=True)"
      ],
      "metadata": {
        "id": "JBFPUPl7OyYe"
      },
      "execution_count": 38,
      "outputs": []
    },
    {
      "cell_type": "code",
      "source": [
        "before = len(df)\n",
        "df.drop_duplicates(inplace=True, ignore_index=True)\n",
        "removed_dups = before - len(df)"
      ],
      "metadata": {
        "id": "ApPb__XhO4FO"
      },
      "execution_count": 39,
      "outputs": []
    },
    {
      "cell_type": "code",
      "source": [
        "for int_col in [\"game_duration\", \"map_id\", \"data_version\"]:\n",
        "    if int_col in df.columns:\n",
        "        df[int_col] = pd.to_numeric(df[int_col], errors=\"coerce\").astype(\"Int64\")"
      ],
      "metadata": {
        "id": "2OKiN01DO53d"
      },
      "execution_count": 40,
      "outputs": []
    },
    {
      "cell_type": "code",
      "source": [
        "def ts_to_datetime(s):\n",
        "    s = pd.to_numeric(s, errors=\"coerce\")\n",
        "    if s.dropna().empty:\n",
        "        return pd.Series(pd.NaT, index=s.index)\n",
        "    # heurística: si la mediana es demasiado grande, probablemente esté en ms\n",
        "    med = s.dropna().median()\n",
        "    if med > 1e12:  # ms\n",
        "        return pd.to_datetime(s, unit=\"ms\", errors=\"coerce\")\n",
        "    else:           # s\n",
        "        return pd.to_datetime(s, unit=\"s\", errors=\"coerce\")"
      ],
      "metadata": {
        "id": "x9zqIy0cO97j"
      },
      "execution_count": 41,
      "outputs": []
    },
    {
      "cell_type": "code",
      "source": [
        "for ts_col in [\"game_creation\", \"game_end_timestamp\"]:\n",
        "    if ts_col in df.columns:\n",
        "        df[ts_col + \"_dt\"] = ts_to_datetime(df[ts_col])"
      ],
      "metadata": {
        "id": "GGzgJ4-3PCYo"
      },
      "execution_count": 42,
      "outputs": []
    },
    {
      "cell_type": "code",
      "source": [
        "obj_cols = df.select_dtypes(include=\"object\").columns\n",
        "# para no tardar en columnas numéricas enormes, solo aplicamos strip si hay strings\n",
        "for c in obj_cols:\n",
        "    # sample para decidir si merece strip\n",
        "    sample = df[c].dropna().astype(str).head(100)\n",
        "    if not sample.empty and any((s != s.strip()) for s in sample):\n",
        "        df[c] = df[c].astype(str).str.strip()"
      ],
      "metadata": {
        "id": "_Jr5Aby2PGyl"
      },
      "execution_count": 43,
      "outputs": []
    },
    {
      "cell_type": "code",
      "source": [
        "report = {\n",
        "    \"filas_finales\": len(df),\n",
        "    \"columnas_finales\": df.shape[1],\n",
        "    \"duplicados_eliminados\": int(removed_dups),\n",
        "    \"columnas_eliminadas_total\": len(drop_cols),\n",
        "    \"columnas_eliminadas_lista\": drop_cols[:20],  # recorte para el print\n",
        "    \"renombres_aplicados_ejemplo\": dict(zip(original_cols[:10], df.columns[:10])),\n",
        "}\n",
        "print(\"Resumen de la simulación de limpieza:\")\n",
        "for k,v in report.items():\n",
        "    print(f\"- {k}: {v}\")"
      ],
      "metadata": {
        "colab": {
          "base_uri": "https://localhost:8080/"
        },
        "id": "x5TsTvkfPJ3A",
        "outputId": "37954dd9-164e-4717-fa03-e736737e7631"
      },
      "execution_count": 44,
      "outputs": [
        {
          "output_type": "stream",
          "name": "stdout",
          "text": [
            "Resumen de la simulación de limpieza:\n",
            "- filas_finales: 101843\n",
            "- columnas_finales: 1436\n",
            "- duplicados_eliminados: 0\n",
            "- columnas_eliminadas_total: 334\n",
            "- columnas_eliminadas_lista: ['participant0summonername', 'participant1summonername', 'participant2summonername', 'participant3summonername', 'participant4summonername', 'participant5summonername', 'participant6summonername', 'participant7summonername', 'participant8summonername', 'participant9summonername', 'dataversion', 'gamemode', 'gametype', 'mapid', 'participant0playerscore0', 'participant0playerscore1', 'participant0playerscore10', 'participant0playerscore11', 'participant0playerscore2', 'participant0playerscore3']\n",
            "- renombres_aplicados_ejemplo: {'dataVersion': 'matchid', 'matchId': 'endofgameresult', 'endOfGameResult': 'gamecreation', 'gameCreation': 'gameduration', 'gameDuration': 'gameendtimestamp', 'gameEndTimestamp': 'gameid', 'gameId': 'gamename', 'gameMode': 'gameversion', 'gameName': 'participant0allinpings', 'gameType': 'participant0assistmepings'}\n"
          ]
        }
      ]
    },
    {
      "cell_type": "code",
      "source": [
        "OUT = \"matchData_clean.csv\"\n",
        "df.to_csv(OUT, index=False)\n",
        "print(f\"\\nArchivo guardado: {OUT}\")"
      ],
      "metadata": {
        "colab": {
          "base_uri": "https://localhost:8080/"
        },
        "id": "61U0h9bhPLZg",
        "outputId": "67683628-d198-45d8-e7ab-221f49bec06e"
      },
      "execution_count": 45,
      "outputs": [
        {
          "output_type": "stream",
          "name": "stdout",
          "text": [
            "\n",
            "Archivo guardado: matchData_clean.csv\n"
          ]
        }
      ]
    },
    {
      "cell_type": "code",
      "source": [
        "print(\"\\nHead del archivo limpio (5 filas):\")\n",
        "print(df.head(5))"
      ],
      "metadata": {
        "colab": {
          "base_uri": "https://localhost:8080/"
        },
        "id": "QmvsH4bjPeuk",
        "outputId": "1b436fe5-885f-4149-dfd9-212af6d4c6b5"
      },
      "execution_count": 46,
      "outputs": [
        {
          "output_type": "stream",
          "name": "stdout",
          "text": [
            "\n",
            "Head del archivo limpio (5 filas):\n",
            "          matchid endofgameresult   gamecreation  gameduration  \\\n",
            "0  NA1_5348438296    GameComplete  1755372956560          1682   \n",
            "1  NA1_5348419072    GameComplete  1755370753217          1759   \n",
            "2  NA1_5345908214    GameComplete  1755055472135          2491   \n",
            "3  NA1_5341292117    GameComplete  1754532281603          1973   \n",
            "4  NA1_5341241370    GameComplete  1754529263025          2376   \n",
            "\n",
            "   gameendtimestamp      gameid                      gamename     gameversion  \\\n",
            "0     1755374669877  5348438296  teambuilder-match-5348438296  15.16.704.6097   \n",
            "1     1755372544375  5348419072  teambuilder-match-5348419072  15.16.704.6097   \n",
            "2     1755057984148  5345908214  teambuilder-match-5345908214  15.15.701.6241   \n",
            "3     1754534283418  5341292117  teambuilder-match-5341292117  15.15.701.6241   \n",
            "4     1754531661796  5341241370  teambuilder-match-5341241370  15.15.701.6241   \n",
            "\n",
            "   participant0allinpings  participant0assistmepings  ...  team1dragonfirst  \\\n",
            "0                       0                          0  ...              True   \n",
            "1                       0                          0  ...             False   \n",
            "2                       0                          8  ...              True   \n",
            "3                       1                          2  ...              True   \n",
            "4                       0                          0  ...             False   \n",
            "\n",
            "   team1dragonkills  team1hordefirst  team1hordekills  team1inhibitorfirst  \\\n",
            "0                 2            False                0                False   \n",
            "1                 0             True                3                False   \n",
            "2                 4            False                0                 True   \n",
            "3                 3            False                0                False   \n",
            "4                 3            False                1                 True   \n",
            "\n",
            "  team1inhibitorkills  team1riftheraldfirst  team1riftheraldkills  \\\n",
            "0                   0                 False                     0   \n",
            "1                   0                 False                     0   \n",
            "2                   3                  True                     1   \n",
            "3                   0                  True                     1   \n",
            "4                   1                  True                     1   \n",
            "\n",
            "   team1towerfirst  team1towerkills  \n",
            "0            False                2  \n",
            "1             True                2  \n",
            "2             True               11  \n",
            "3            False                5  \n",
            "4             True                7  \n",
            "\n",
            "[5 rows x 1436 columns]\n"
          ]
        }
      ]
    },
    {
      "cell_type": "code",
      "source": [
        "print(\"\\nTipos de datos (primeras 30) del archivo limpio:\")\n",
        "print(df.dtypes.head(30))"
      ],
      "metadata": {
        "colab": {
          "base_uri": "https://localhost:8080/"
        },
        "id": "njZ8ppIiPkUL",
        "outputId": "7ea795a6-8aee-49d5-880f-2a59da3e5a0c"
      },
      "execution_count": 47,
      "outputs": [
        {
          "output_type": "stream",
          "name": "stdout",
          "text": [
            "\n",
            "Tipos de datos (primeras 30) del archivo limpio:\n",
            "matchid                                object\n",
            "endofgameresult                        object\n",
            "gamecreation                            int64\n",
            "gameduration                            int64\n",
            "gameendtimestamp                        int64\n",
            "gameid                                  int64\n",
            "gamename                               object\n",
            "gameversion                            object\n",
            "participant0allinpings                  int64\n",
            "participant0assistmepings               int64\n",
            "participant0assists                     int64\n",
            "participant0baronkills                  int64\n",
            "participant0champexperience             int64\n",
            "participant0champlevel                  int64\n",
            "participant0championid                  int64\n",
            "participant0championname               object\n",
            "participant0championtransform           int64\n",
            "participant0commandpings                int64\n",
            "participant0consumablespurchased        int64\n",
            "participant0damagedealttobuildings      int64\n",
            "participant0damagedealttoobjectives     int64\n",
            "participant0damagedealttoturrets        int64\n",
            "participant0damageselfmitigated         int64\n",
            "participant0dangerpings                 int64\n",
            "participant0deaths                      int64\n",
            "participant0detectorwardsplaced         int64\n",
            "participant0doublekills                 int64\n",
            "participant0dragonkills                 int64\n",
            "participant0eligibleforprogression       bool\n",
            "participant0enemymissingpings           int64\n",
            "dtype: object\n"
          ]
        }
      ]
    }
  ]
}